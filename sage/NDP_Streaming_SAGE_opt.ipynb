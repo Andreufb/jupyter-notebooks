{
 "cells": [
  {
   "cell_type": "markdown",
   "id": "9468a857",
   "metadata": {},
   "source": [
    "<div style=\"display: flex; align-items: center;\">\n",
    "    <img src=\"SAGE_logo.jpeg\" alt=\"descripción\" width=\"150\" style=\"margin-right: 10px; vertical-align: middle;\">\n",
    "    <h1>NSF National Data Platform (NDP)</h1>\n",
    "</div>\n",
    "\n",
    "<h3 style=\"text-align: center; margin-top: 0;\">Streaming Data from SAGE Pilot</h3>"
   ]
  },
  {
   "cell_type": "markdown",
   "id": "dd4a5cc9",
   "metadata": {},
   "source": [
    "**Contact:** Scientific and Computing Imaging Institute, University of Utah ([ivan.rodero@utah.edu](mailto:ivan.rodero@utah.edu))"
   ]
  },
  {
   "cell_type": "markdown",
   "id": "ba3e53f8-4dea-4c6f-8dfb-c76a1cffe3b7",
   "metadata": {
    "tags": []
   },
   "source": [
    "<div style=\"display: flex; align-items: center;\">\n",
    "    <img src=\"https://new.nsf.gov/themes/custom/nsf_theme/components/images/logo/logo-desktop.svg\" alt=\"NSF Logo\" width=\"120\" style=\"margin-right: 10px; vertical-align: middle;\">\n",
    "    <span style=\"font-size: 10px; margin-top:10px;\">The National Data Platform was funded by NSF 2333609 under CI, CISE Research Resources programs. Any opinions, findings, conclusions, or recommendations expressed in this material are those of the author(s) and do not necessarily reflect the views of the funders.</span>\n",
    "</div>"
   ]
  },
  {
   "cell_type": "code",
   "execution_count": null,
   "id": "0252430d-d011-4028-8aed-f1f0e7335016",
   "metadata": {},
   "outputs": [],
   "source": [
    "from basic_functions import get_and_display_consumer_data, stream_and_visualize_data\n",
    "import warnings\n",
    "from IPython.display import display, HTML\n",
    "\n",
    "css_style = \"\"\"\n",
    "<style>\n",
    ".output {\n",
    "    max-height: 600px;\n",
    "    overflow-y: auto;\n",
    "    max-width: 100%;\n",
    "    overflow-x: auto;\n",
    "}\n",
    "</style>\n",
    "\"\"\"\n",
    "\n",
    "display(HTML(css_style))\n",
    "warnings.filterwarnings(\"ignore\", message=\"The behavior of DataFrame concatenation with empty or all-NA entries is deprecated\")\n"
   ]
  },
  {
   "cell_type": "code",
   "execution_count": null,
   "id": "c47c72ef-c3ac-496d-b7ea-b08529f26e8f",
   "metadata": {},
   "outputs": [],
   "source": [
    "KAFKA_HOST = \"155.101.6.194\"\n",
    "KAFKA_PORT = \"9092\"\n",
    "consumers = [\"wind\", \"temperature\", \"humidity\", \"pressure\", \"air_quality\"]"
   ]
  },
  {
   "cell_type": "markdown",
   "id": "d13c5ef6-b2be-4290-b7f6-7ee52c6ab958",
   "metadata": {},
   "source": [
    "### Real-Time Data Streaming and Visualization\n",
    "\n",
    "The `stream_and_visualize_data` function is at the heart of our real-time data analysis and visualization tool. It connects to a Kafka topic as a consumer using a given `consumer_id` and streams data in real time. The function then processes and visualizes this data dynamically, providing insights into trends as they occur.\n",
    "\n",
    "Key components of this function include:\n",
    "- **Kafka Consumer Initialization**: Establishes a connection to a Kafka topic to consume messages.\n",
    "- **Data Processing**: Upon receiving data, it parses the JSON payload, extracts relevant information, and updates the data model.\n",
    "- **Model Training and Prediction**: Utilizes an incremental model to train on the newly arrived data and makes future predictions based on the model.\n",
    "- **Dynamic Visualization**: Leverages Plotly to plot real-time data and predictions. The visualization includes both historical data and the latest data points to show trends over time.\n",
    "- **Saving Option**: Optionally, the visualized data can be saved as an HTML file for offline viewing and shared with others.\n",
    "\n",
    "This approach enables real-time monitoring and forecasting, making it invaluable for applications requiring up-to-the-minute data analysis, such as environmental monitoring, financial market tracking, or IoT device management.\n"
   ]
  },
  {
   "cell_type": "markdown",
   "id": "d23b9881-7701-43b8-a141-f6b3f1ced363",
   "metadata": {},
   "source": [
    "### Visualizing Real-Time Data for a Selected Consumer\n",
    "\n",
    "After retrieving and displaying the active consumers, we can focus on a specific consumer to visualize their data in real time. By selecting a consumer ID from the previously obtained array of consumer IDs, we can tailor our data visualization to show trends and predictions related to that particular consumer's data stream.\n",
    "\n",
    "The code snippet below demonstrates how to select the third consumer from our list (noting that Python uses zero-based indexing) and visualize their real-time data along with future predictions:"
   ]
  },
  {
   "cell_type": "code",
   "execution_count": null,
   "id": "fb900a98-7e11-48a4-9b25-3511e088426a",
   "metadata": {},
   "outputs": [],
   "source": [
    "consumer_id = consumers[0]\n",
    "await stream_and_visualize_data(KAFKA_HOST, KAFKA_PORT, consumer_id, predictions=20)"
   ]
  }
 ],
 "metadata": {
  "kernelspec": {
   "display_name": "Python 3 (ipykernel)",
   "language": "python",
   "name": "python3"
  },
  "language_info": {
   "codemirror_mode": {
    "name": "ipython",
    "version": 3
   },
   "file_extension": ".py",
   "mimetype": "text/x-python",
   "name": "python",
   "nbconvert_exporter": "python",
   "pygments_lexer": "ipython3",
   "version": "3.11.6"
  }
 },
 "nbformat": 4,
 "nbformat_minor": 5
}
