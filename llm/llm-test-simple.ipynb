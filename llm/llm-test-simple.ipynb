{
 "cells": [
  {
   "cell_type": "code",
   "execution_count": null,
   "id": "e0191bc9-8149-4316-8617-e8e4fda0b1bc",
   "metadata": {},
   "outputs": [],
   "source": [
    "import langchain\n",
    "import os\n",
    "from langchain.chat_models import ChatOpenAI\n",
    "from langchain.document_loaders import TextLoader\n",
    "from langchain.embeddings import OpenAIEmbeddings\n",
    "from langchain.indexes import VectorstoreIndexCreator\n",
    "import requests\n",
    "os.environ['OPENAI_API_BASE'] = 'http://fc-api-server:8000/v1'\n",
    "os.environ['OPENAI_API_KEY'] = 'EMPTY'\n",
    "\n",
    "!wget https://raw.githubusercontent.com/hwchase17/langchain/v0.0.200/docs/modules/state_of_the_union.txt"
   ]
  },
  {
   "cell_type": "code",
   "execution_count": null,
   "id": "889395f9-a7b1-413e-b67b-8f494abd5dc3",
   "metadata": {},
   "outputs": [],
   "source": [
    "!curl  -X 'GET' \\\n",
    "  'http://localhost:8000/v1/models' \\\n",
    "  -H 'accept: application/json'"
   ]
  },
  {
   "cell_type": "code",
   "execution_count": null,
   "id": "cdf6b9e0-4e1c-47ee-9ec3-c94f68644e9f",
   "metadata": {},
   "outputs": [],
   "source": [
    "!curl http://fc-api-server:8000/v1/chat/completions  -H \"Content-Type: application/json\"  -d '{ \"model\": \"Trendyol-LLM-7b-chat-v0.1\", \"messages\": [{\"role\": \"user\", \"content\": \"Who is Fumio Kishida?\"}]}'"
   ]
  },
  {
   "cell_type": "code",
   "execution_count": null,
   "id": "ee017faf-39cc-40f4-8347-4c9e7b77b96b",
   "metadata": {},
   "outputs": [],
   "source": [
    "!curl http://fc-api-server:8000/v1/chat/completions  -H \"Content-Type: application/json\"  -d '{ \"model\": \"Trendyol-LLM-7b-chat-v0.1\", \"messages\": [{\"role\": \"user\", \"content\": \"Who is Fumio Kishida?\"}]}'"
   ]
  },
  {
   "cell_type": "code",
   "execution_count": null,
   "id": "e066f108-e7fd-4d29-b080-e8b3b654aee5",
   "metadata": {},
   "outputs": [],
   "source": [
    "\n",
    "\n",
    "url = \"http://fc-api-server:8000/v1/chat/completions\"\n",
    "\n",
    "headers = {\n",
    "    \"Content-Type\": \"application/json\",\n",
    "}\n",
    "\n",
    "data = {\n",
    "    \"model\": \"Trendyol-LLM-7b-chat-v0.1\",\n",
    "    \"messages\": [{\"role\": \"user\", \"content\": \"Who is Fumio Kishida?\"}],\n",
    "}\n",
    "\n",
    "response = requests.post(url, json=data, headers=headers)\n",
    "\n",
    "print(response.text)\n"
   ]
  },
  {
   "cell_type": "code",
   "execution_count": null,
   "id": "952c4d98-8b10-40b6-869b-af634dc18e88",
   "metadata": {},
   "outputs": [],
   "source": [
    "import requests\n",
    "\n",
    "url = \"http://fc-api-server:8000/api/v1/chat/completions\"\n",
    "\n",
    "headers = {\n",
    "    \"accept\": \"application/json\",\n",
    "    \"Content-Type\": \"application/json\",\n",
    "}\n",
    "\n",
    "data = {\n",
    "    \"model\": \"Trendyol-LLM-7b-chat-v0.1\",\n",
    "    \"messages\": \"What did the president say about Ketanji Brown Jackson?\",\n",
    "    \"temperature\": 0.7,\n",
    "    \"top_p\": 1,\n",
    "    \"top_k\": -1,\n",
    "    \"n\": 1,\n",
    "    \"max_tokens\": 650,\n",
    "    \"stop\": \"string\",\n",
    "    \"stream\": False,\n",
    "    \"user\": \"string\",\n",
    "    \"repetition_penalty\": 1,\n",
    "    \"frequency_penalty\": 0,\n",
    "    \"presence_penalty\": 0,\n",
    "}\n",
    "\n",
    "response = requests.post(url, json=data, headers=headers)\n",
    "\n",
    "print(response.text)\n"
   ]
  },
  {
   "cell_type": "code",
   "execution_count": null,
   "id": "b1906b61-e7ec-46c0-91d6-198279265e31",
   "metadata": {},
   "outputs": [],
   "source": [
    "embedding = OpenAIEmbeddings(model=\"text-embedding-ada-002\")\n",
    "loader = TextLoader(\"state_of_the_union.txt\")\n",
    "index = VectorstoreIndexCreator(embedding=embedding).from_loaders([loader])\n",
    "llm = ChatOpenAI(model=\"gpt-4-turbo\")\n",
    "\n",
    "questions = [\n",
    "    \"Who is the speaker\",\n",
    "    \"What did the president say about Ketanji Brown Jackson\",\n",
    "    \"What are the threats to America\",\n",
    "    \"Who are mentioned in the speech\",\n",
    "    \"Who is the vice president\",\n",
    "    \"How many projects were announced\",\n",
    "]\n",
    "\n",
    "for query in questions:\n",
    "    print(\"Query:\", query)\n",
    "    print(\"Answer:\", index.query(query, llm=llm))"
   ]
  },
  {
   "cell_type": "code",
   "execution_count": null,
   "id": "aef680fc-40cf-4274-82f9-7f963b44c8dd",
   "metadata": {},
   "outputs": [],
   "source": [
    "print(\"Answer:\", index.query(\"Where is San Diego?\", llm=llm))"
   ]
  },
  {
   "cell_type": "code",
   "execution_count": null,
   "id": "d71c08b1-7718-43e5-8cf0-5e5ae2508048",
   "metadata": {},
   "outputs": [],
   "source": [
    "print(\"Answer:\", index.query(\"I want to go to San Diego from St. George Utah give me a plan\", llm=llm))"
   ]
  },
  {
   "cell_type": "code",
   "execution_count": null,
   "id": "672120f7-3c1a-4a4a-8f61-13a4be4cb861",
   "metadata": {},
   "outputs": [],
   "source": [
    "print(\"Answer:\", index.query(\"Who is narendra modi?\", llm=llm))"
   ]
  }
 ],
 "metadata": {
  "kernelspec": {
   "display_name": "Python 3 (ipykernel)",
   "language": "python",
   "name": "python3"
  },
  "language_info": {
   "codemirror_mode": {
    "name": "ipython",
    "version": 3
   },
   "file_extension": ".py",
   "mimetype": "text/x-python",
   "name": "python",
   "nbconvert_exporter": "python",
   "pygments_lexer": "ipython3",
   "version": "3.11.8"
  }
 },
 "nbformat": 4,
 "nbformat_minor": 5
}
