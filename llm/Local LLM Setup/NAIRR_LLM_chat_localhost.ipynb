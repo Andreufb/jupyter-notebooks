{
 "cells": [
  {
   "cell_type": "markdown",
   "id": "b2ca83c4-070a-458d-940f-4f886b80bcfb",
   "metadata": {},
   "source": [
    "<div style=\"display: flex; justify-content: space-between; align-items: center; margin-bottom: 40px; margin-top: 0;\">\n",
    "    <div style=\"flex: 0 0 auto; margin-left: 0; margin-bottom: 0;margin-top: 0;\">\n",
    "        <img src=\"./pics/NationalDataPlatform_logo.png\" alt=\"NationalDataPlatform Logo\" style=\"width: 179px; margin-bottom: 0px;\">\n",
    "    </div>    \n",
    "    <div style=\"flex: 0 0 auto; margin-left: auto; margin-bottom: 0; margin-top: 0;\">\n",
    "        <img src=\"./pics/logo_UCSD.png\" alt=\"UCSD Logo\" style=\"width: 179px; margin-bottom: 0px; margin-top: 20px;\">\n",
    "    </div>\n",
    "    <div style=\"flex: 0 0 auto; margin-left: auto; margin-bottom: 0; margin-top: 20px;\">\n",
    "        <img src=\"./pics/sdsclogo-plusname-horiz-red.jpg\" alt=\"San Diego Supercomputer Center Logo\" width=\"300\"/>\n",
    "    </div>\n",
    "</div>\n",
    "<h1 style=\"text-align: center; font-size: 24px; margin-top: 0;\">NSF National Data Platform (NDP)</h1>\n",
    "<h3 style=\"text-align: center; font-size: 18px; margin-top: 10px;\">LLM as a Service Tutorial</h3>\n",
    "<div style=\"margin: 20px 0;\">\n",
    "    <p align=\"justify\"> Large Language Models are a powerful AI tool with multiple applications in both research and education, given their capacity to process big amounts of information, providing human-like answers which are tuned for different audiences.</p>\n",
    "    <p align=\"justify\"> Understanding today's relevance of LLM's, the National Data Platform (NDP) has developed an LLM service to contribute to the research and education goals of its users.</p>\n",
    "    <p align=\"justify\"> In this guide, we are covering the use of an LLM as an NDP service. The main purpose of this demo is to showcase how this service works, and allow the user to identify the potential in the use of this service in research and education.</p>\n",
    "</div>\n",
    "\n",
    "<center>\n",
    "    <div style=\"text-align: right; padding: 5px;\">\n",
    "        <p style=\"text-align: right;\"><strong>Contact:</strong><a href=\"https://docs.google.com/forms/d/e/1FAIpQLSfzjlc0Sw2fTFTKArOZ0ffKNdVcPivf218kLXkBKfobGPbDMw/viewform\"> NDP Issue Reporting Form </a></p>\n",
    "    </div>\n",
    "</cente\n",
    "\n",
    "\n",
    "<div style=\"display: flex; align-items: center; justify-content: flex-start; margin-top: 20px; border-top: 1px solid #ccc; padding-top: 20px;\">\n",
    "    <img src=\"https://new.nsf.gov/themes/custom/nsf_theme/components/images/logo/logo-desktop.svg\" alt=\"NSF Logo\" style=\"width: 120px; margin-right: 10px;\">\n",
    "    <p style=\"font-size: 12px;\">The National Data Platform was funded by NSF 2333609 under CI, CISE Research Resources programs. Any opinions, findings, conclusions, or recommendations expressed in this material are those of the author(s) and do not necessarily reflect the views of the funders.</p>\n",
    "</div>\n",
    "<hr>"
   ]
  },
  {
   "cell_type": "markdown",
   "id": "08ab8610-5676-468a-b2a8-01392a229cdc",
   "metadata": {},
   "source": [
    "### What is an LLM?\n",
    "\n",
    "An LLM, or Large Language Model, is a type of artificial intelligence designed to understand and generate human-like text based on the data it's been trained on. By adding a vast amount of text from different sources and context's (web, books, papers, among others) LLM's are capable to identify the patterns of the human language under different contexts and provide responses to complex questions.  Popular LLM's today include GPT-4 (ChatGPT), LlaMA-2, Claude-2, among others. \n",
    "\n",
    "LLM's posses a huge potential in both research and education, given their capability to quickly process and summarize a vast amount of information. LLM's can bee seen as a powerful tool to accelerate learning, facilitate the sharing of knowledge, process and generate big amounts of data, generate new hypothesis questions, among other uses.\n",
    "\n",
    "### ClimateGPT\n",
    "\n",
    "For this demo, we are using the [ClimateGPT](https://climategpt.ai/) model. Climate GPT was launched in January 2024, and it represents one of the first LLM's fine-tuned on climate research chorpus. \n",
    "\n",
    "The model is a fine tuned version of META's LlaMA-2, and it has been designed to accelerate research aimed to face the current climate crisis, targeting researcers, policymakers and educators as primary users.\n",
    "\n",
    "### Hands on\n",
    "\n",
    "We will start using LLM as a service. First, we will make some questions to the vanilla ClimateGPT to see its capabilities. Then, we will extend the chorpus of the model by adding a new document. We expect the model to be able to answer questions based on the new document."
   ]
  },
  {
   "cell_type": "code",
   "execution_count": 1,
   "id": "e0191bc9-8149-4316-8617-e8e4fda0b1bc",
   "metadata": {},
   "outputs": [],
   "source": [
    "# Importing the relevant libraries\n",
    "import requests\n",
    "import os\n",
    "import langchain\n",
    "from langchain.chat_models import ChatOpenAI\n",
    "from langchain.document_loaders import TextLoader\n",
    "from langchain.embeddings import OpenAIEmbeddings\n",
    "from langchain.indexes import VectorstoreIndexCreator\n",
    "from langchain_community.document_loaders import PyPDFLoader\n",
    "\n",
    "MODEL = 'eci-io/climategpt-7b' # We specify the model tu use\n",
    "os.environ['OPENAI_API_BASE'] = 'http://localhost:8000/v1'\n",
    "os.environ['OPENAI_API_KEY'] = 'EMPTY'"
   ]
  },
  {
   "cell_type": "markdown",
   "id": "f91ff451-27e7-41ac-901d-d6bfcfc3f9b2",
   "metadata": {},
   "source": [
    "### Test that LLM API is up"
   ]
  },
  {
   "cell_type": "code",
   "execution_count": 2,
   "id": "889395f9-a7b1-413e-b67b-8f494abd5dc3",
   "metadata": {},
   "outputs": [
    {
     "name": "stdout",
     "output_type": "stream",
     "text": [
      "{\"object\":\"list\",\"data\":[{\"id\":\"ECarbenia/grimoiresigils\",\"object\":\"model\",\"created\":1710722296,\"owned_by\":\"fastchat\",\"root\":\"ECarbenia/grimoiresigils\",\"parent\":null,\"permission\":[{\"id\":\"modelperm-ovGGEHJJioyjcx7Je9ymSj\",\"object\":\"model_permission\",\"created\":1710722296,\"allow_create_engine\":false,\"allow_sampling\":true,\"allow_logprobs\":true,\"allow_search_indices\":true,\"allow_view\":true,\"allow_fine_tuning\":false,\"organization\":\"*\",\"group\":null,\"is_blocking\":false}]},{\"id\":\"eci-io/climategpt-7b\",\"object\":\"model\",\"created\":1710722296,\"owned_by\":\"fastchat\",\"root\":\"eci-io/climategpt-7b\",\"parent\":null,\"permission\":[{\"id\":\"modelperm-WFVzzLMKjFn67onJvDnG53\",\"object\":\"model_permission\",\"created\":1710722296,\"allow_create_engine\":false,\"allow_sampling\":true,\"allow_logprobs\":true,\"allow_search_indices\":true,\"allow_view\":true,\"allow_fine_tuning\":false,\"organization\":\"*\",\"group\":null,\"is_blocking\":false}]},{\"id\":\"text-embedding-ada-002\",\"object\":\"model\",\"created\":1710722296,\"owned_by\":\"fastchat\",\"root\":\"text-embedding-ada-002\",\"parent\":null,\"permission\":[{\"id\":\"modelperm-WtjpqgHmNb8QyGv6nJg6ZC\",\"object\":\"model_permission\",\"created\":1710722296,\"allow_create_engine\":false,\"allow_sampling\":true,\"allow_logprobs\":true,\"allow_search_indices\":true,\"allow_view\":true,\"allow_fine_tuning\":false,\"organization\":\"*\",\"group\":null,\"is_blocking\":false}]}]}"
     ]
    }
   ],
   "source": [
    "!curl  -X 'GET' 'http://localhost:8000/v1/models' -H 'accept: application/json'"
   ]
  },
  {
   "cell_type": "markdown",
   "id": "eb480fdb-4e1d-44cc-a414-223d22f38e03",
   "metadata": {},
   "source": [
    "### The conversation code"
   ]
  },
  {
   "cell_type": "code",
   "execution_count": 3,
   "id": "e066f108-e7fd-4d29-b080-e8b3b654aee5",
   "metadata": {},
   "outputs": [],
   "source": [
    "def save_answer(question, answer):\n",
    "    with open('output.txt', 'a') as file:\n",
    "        file.write(question+'\\n')\n",
    "        file.write(answer+'\\n\\n')\n",
    "    \n",
    "\n",
    "def question(question, chorpus):\n",
    "    url = \"http://localhost:8000/v1/chat/completions\"\n",
    "    \n",
    "    headers = {\n",
    "        \"Content-Type\": \"application/json\",\n",
    "    }\n",
    "    \n",
    "    data = {\n",
    "        \"model\": MODEL,\n",
    "        \"messages\": [{\"role\": \"user\", \"content\": question}],\n",
    "    }\n",
    "    if chorpus:\n",
    "        answer = index.query(question, llm=llm)\n",
    "    else:\n",
    "        response = requests.post(url, json=data, headers=headers)\n",
    "        answer = response.json()['choices'][0]['message']['content']\n",
    "    \n",
    "    print(f\"\\nAnswer: {answer}\")\n",
    "\n",
    "    save = input(\"\\n\\nWould you like to save your answer? (y/n): \")\n",
    "    print('\\n')\n",
    "    if save=='y':\n",
    "        save_answer(question, answer)\n",
    "\n",
    "def conversation(chorpus=False):\n",
    "    while True:\n",
    "        user_input = input(\"Question ('q' to quit): \")\n",
    "        if user_input=='q':\n",
    "            break\n",
    "        question(user_input, chorpus)"
   ]
  },
  {
   "cell_type": "markdown",
   "id": "0b469436-1312-4529-bf48-b5208aabde87",
   "metadata": {},
   "source": [
    "### Run the conversation\n",
    "\n",
    "Feel free to ask any question you consider relevant"
   ]
  },
  {
   "cell_type": "code",
   "execution_count": 4,
   "id": "5a8400ea-4231-405c-90a9-2e37e68de370",
   "metadata": {},
   "outputs": [
    {
     "name": "stdin",
     "output_type": "stream",
     "text": [
      "Question ('q' to quit):  List the facilities that a NAIRR resource should provide with respect to (a) computing, (b) AI/ML models, and (c) data.\n"
     ]
    },
    {
     "name": "stdout",
     "output_type": "stream",
     "text": [
      "\n",
      "Answer: A NAIRR (National Artificial Intelligence Resource) resource should provide the following facilities with respect to (a) computing, (b) AI/ML models, and (c) data:\n",
      "\n",
      "(a) Computing:\n",
      "\n",
      "* High-performance computing resources, such as supercomputers, cloud computing services, or high-performance computing clusters.\n",
      "* Access to specialized software and tools, such as programming languages, data analysis tools, machine learning libraries, and simulation software.\n",
      "* Data storage solutions, such as data warehouses, data lakes, or distributed file systems.\n",
      "* Networking infrastructure, such as high-speed internet connectivity, virtual private networks, or cloud-based networking services.\n",
      "\n",
      "(b) AI/ML models:\n",
      "\n",
      "* Access to a diverse range of pre-trained AI/ML models, such as deep learning models, natural language processing models, computer vision models, and reinforcement learning models.\n",
      "* Regular updates and upgrades to the AI/ML models, to ensure that they are up-to-date with the latest research and advancements in the field.\n",
      "* Support and guidance for users who want to customize or adapt the AI/ML models for their specific needs.\n",
      "* Access to documentation and user manuals for the AI/ML models, to help users understand how to use and apply them effectively.\n",
      "\n",
      "(c) Data:\n",
      "\n",
      "* Access to a diverse range of datasets, such as public datasets, proprietary datasets, or specialized datasets, that are relevant to AI/ML research and applications.\n",
      "* Guidance and support for users who want to access, download, or use external datasets.\n",
      "* Tools and resources for data preprocessing, cleaning, and transformation, to help users prepare their data for analysis and modeling.\n",
      "* Support for data storage and management, such as data backup, archiving, or data retrieval services.\n"
     ]
    },
    {
     "name": "stdin",
     "output_type": "stream",
     "text": [
      "\n",
      "\n",
      "Would you like to save your answer? (y/n):  n\n"
     ]
    },
    {
     "name": "stdout",
     "output_type": "stream",
     "text": [
      "\n",
      "\n"
     ]
    },
    {
     "name": "stdin",
     "output_type": "stream",
     "text": [
      "Question ('q' to quit):  What task forces are recommended in the report?\n"
     ]
    },
    {
     "name": "stdout",
     "output_type": "stream",
     "text": [
      "\n",
      "Answer: I'm sorry, but without knowing which report you are referring to, I am unable to provide you with an accurate answer. Can you please provide more context or information about the report you are asking about?\n"
     ]
    },
    {
     "name": "stdin",
     "output_type": "stream",
     "text": [
      "\n",
      "\n",
      "Would you like to save your answer? (y/n):  n\n"
     ]
    },
    {
     "name": "stdout",
     "output_type": "stream",
     "text": [
      "\n",
      "\n"
     ]
    },
    {
     "name": "stdin",
     "output_type": "stream",
     "text": [
      "Question ('q' to quit):  q\n"
     ]
    }
   ],
   "source": [
    "conversation()"
   ]
  },
  {
   "cell_type": "markdown",
   "id": "ef5b8be5-6455-435c-b703-ee0acbcbd459",
   "metadata": {},
   "source": [
    "### Example of using ClimateGPT LLM adding documents\n",
    "\n",
    "Now we will extend the capacity of the model by adding new documentation, which we will feed the model with the relevant context to answer our questions of interest. We will use the following document:\n",
    "\n",
    "- [\"Strengthening and Democratizing the U.S. Artificial Intelligence Innovation Ecosystem: An Implementation Plan for a National Artificial Intelligence Research Resource\" (NAIRR-TF-Final-Report-2023.pdf)](chrome-extension://efaidnbmnnnibpcajpcglclefindmkaj/https://www.ai.gov/wp-content/uploads/2023/01/NAIRR-TF-Final-Report-2023.pdf)\n",
    "\n",
    "The questions that we will use to are the following:\n",
    "\n",
    "* List the facilities that a NAIRR resource should provide with respect to (a) computing, (b) AI/ML models, and (c) data.  \n",
    "* What committees does the report refer to?  \n",
    "* What are NAIRR's goals with respect to human capital?  \n",
    "* What task forces are recommended in the report?  "
   ]
  },
  {
   "cell_type": "code",
   "execution_count": 5,
   "id": "d45c36c2-2853-4ebe-880e-3d0ea5225b10",
   "metadata": {},
   "outputs": [
    {
     "name": "stderr",
     "output_type": "stream",
     "text": [
      "/opt/conda/lib/python3.11/site-packages/langchain_core/_api/deprecation.py:117: LangChainDeprecationWarning: The class `langchain_community.embeddings.openai.OpenAIEmbeddings` was deprecated in langchain-community 0.0.9 and will be removed in 0.2.0. An updated version of the class exists in the langchain-openai package and should be used instead. To use it run `pip install -U langchain-openai` and import as `from langchain_openai import OpenAIEmbeddings`.\n",
      "  warn_deprecated(\n",
      "/opt/conda/lib/python3.11/site-packages/langchain_core/_api/deprecation.py:117: LangChainDeprecationWarning: The class `langchain_community.chat_models.openai.ChatOpenAI` was deprecated in langchain-community 0.0.10 and will be removed in 0.2.0. An updated version of the class exists in the langchain-openai package and should be used instead. To use it run `pip install -U langchain-openai` and import as `from langchain_openai import ChatOpenAI`.\n",
      "  warn_deprecated(\n"
     ]
    }
   ],
   "source": [
    "# We load the new document to the model\n",
    "embedding = OpenAIEmbeddings(model=\"text-embedding-ada-002\")\n",
    "file = '../PDF Documents/NAIRR-TF-Final-Report-2023.pdf'\n",
    "loader = PyPDFLoader(file)\n",
    "index = VectorstoreIndexCreator(embedding=embedding).from_loaders([loader])\n",
    "llm = ChatOpenAI(model=MODEL)"
   ]
  },
  {
   "cell_type": "code",
   "execution_count": 6,
   "id": "812ad520-4ad2-4fb8-a67e-67dad9dbdbb4",
   "metadata": {},
   "outputs": [
    {
     "name": "stdin",
     "output_type": "stream",
     "text": [
      "Question ('q' to quit):  List the facilities that a NAIRR resource should provide with respect to (a) computing, (b) AI/ML models, and (c) data.\n"
     ]
    },
    {
     "name": "stdout",
     "output_type": "stream",
     "text": [
      "\n",
      "Answer: With respect to computing, a NAIRR resource should provide access to a variety of computational resources, including conventional servers, computing clusters, high-performance computing (HPC), cloud computing, and edge computing resources. It should also support access to testbeds for AI research and development.\n",
      "\n",
      "With respect to AI/ML models, a NAIRR resource should provide access to a range of AI and machine learning models, including pre-trained models and models that can be trained on-site. It should also provide tools and software for developing, testing, and deploying AI and machine learning models.\n",
      "\n",
      "With respect to data, a NAIRR resource should provide access to a wide range of data sources, including open and protected data. It should also provide tools and software for data analysis, visualization, and management. The data should be co-located with computational resources wherever possible, and data providers should facilitate user access to restricted statistical data through the Standard Application Process (SAP) established under the 2018 Foundations for Evidence-Based Policymaking Act, where appropriate and possible.\n"
     ]
    },
    {
     "name": "stdin",
     "output_type": "stream",
     "text": [
      "\n",
      "\n",
      "Would you like to save your answer? (y/n):  n\n"
     ]
    },
    {
     "name": "stdout",
     "output_type": "stream",
     "text": [
      "\n",
      "\n"
     ]
    },
    {
     "name": "stdin",
     "output_type": "stream",
     "text": [
      "Question ('q' to quit):  What task forces are recommended in the report?\n"
     ]
    },
    {
     "name": "stdout",
     "output_type": "stream",
     "text": [
      "\n",
      "Answer: The report recommends the formation of task forces to address specific issues related to the National AI Research and Development Strategic Plan (NAIRR). These task forces are as follows:\n",
      "\n",
      "1. Technology Advisory Board: This is a standing task force that will be responsible for providing advice to the NAIRR on the evolving AI tool landscape and making recommendations on additions or deletions to the NAIRR standard virtual organization.\n",
      "2. Resource Provider Coordination Task Force: This task force will be responsible for coordinating, multi-agency funding opportunities for resource providers.\n",
      "3. Training and Support Task Force: This task force will be responsible for developing and implementing training and support materials related to the use of NAIRR resources.\n",
      "4. Implementation and Evaluation Task Force: This task force will be responsible for incorporating lessons learned from the implementation of the NAIRR into future iterations of the plan.\n",
      "\n",
      "These task forces will work in collaboration with the NAIRR Operating Entity and other stakeholders to ensure the successful implementation of the NAIRR.\n"
     ]
    },
    {
     "name": "stdin",
     "output_type": "stream",
     "text": [
      "\n",
      "\n",
      "Would you like to save your answer? (y/n):  n\n"
     ]
    },
    {
     "name": "stdout",
     "output_type": "stream",
     "text": [
      "\n",
      "\n"
     ]
    },
    {
     "name": "stdin",
     "output_type": "stream",
     "text": [
      "Question ('q' to quit):  q\n"
     ]
    }
   ],
   "source": [
    "# We add True to indicate the model to make use of the new document\n",
    "conversation(True)"
   ]
  },
  {
   "cell_type": "markdown",
   "id": "21fb7323-0624-456e-88a2-167c03c968d6",
   "metadata": {},
   "source": [
    "Looking at the responses, we can confirm the model is given proper answers which are constructed taking the added document as context."
   ]
  },
  {
   "cell_type": "code",
   "execution_count": null,
   "id": "da041b88-a134-4595-8d2d-8617853f6da9",
   "metadata": {},
   "outputs": [],
   "source": []
  }
 ],
 "metadata": {
  "kernelspec": {
   "display_name": "Python 3 (ipykernel)",
   "language": "python",
   "name": "python3"
  },
  "language_info": {
   "codemirror_mode": {
    "name": "ipython",
    "version": 3
   },
   "file_extension": ".py",
   "mimetype": "text/x-python",
   "name": "python",
   "nbconvert_exporter": "python",
   "pygments_lexer": "ipython3",
   "version": "3.11.8"
  }
 },
 "nbformat": 4,
 "nbformat_minor": 5
}
